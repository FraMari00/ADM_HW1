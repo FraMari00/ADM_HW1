{
 "cells": [
  {
   "cell_type": "markdown",
   "id": "52acd2b7",
   "metadata": {},
   "source": [
    "Introduction"
   ]
  },
  {
   "cell_type": "markdown",
   "id": "44718f96",
   "metadata": {},
   "source": [
    "1. Say \"Hello, World!\" With Python"
   ]
  },
  {
   "cell_type": "code",
   "execution_count": 1,
   "id": "d08ecf73",
   "metadata": {},
   "outputs": [
    {
     "name": "stdout",
     "output_type": "stream",
     "text": [
      "Hello, World!\n"
     ]
    }
   ],
   "source": [
    "print(\"Hello, World!\")"
   ]
  },
  {
   "cell_type": "markdown",
   "id": "f8e0a532",
   "metadata": {},
   "source": [
    "2. Python If-Else"
   ]
  },
  {
   "cell_type": "code",
   "execution_count": null,
   "id": "59dddfe1",
   "metadata": {},
   "outputs": [],
   "source": [
    "#!/bin/python3\n",
    "\n",
    "import math\n",
    "import os\n",
    "import random\n",
    "import re\n",
    "import sys\n",
    "\n",
    "\n",
    "\n",
    "n = int(input().strip())\n",
    "if n>=1 and n<=100:\n",
    "    if n%2==1:\n",
    "        print(\"Weird\")\n",
    "    if n%2==0:\n",
    "        if n>=2 and n<=5:\n",
    "            print(\"Not Weird\")\n",
    "        if n>=6 and n<=20:\n",
    "            print(\"Weird\")\n",
    "        elif n > 20:\n",
    "            print(\"Not Weird\")"
   ]
  },
  {
   "cell_type": "markdown",
   "id": "168668ee",
   "metadata": {},
   "source": [
    "3. Arithmetic Operators"
   ]
  },
  {
   "cell_type": "code",
   "execution_count": null,
   "id": "452e27f7",
   "metadata": {},
   "outputs": [],
   "source": [
    "if __name__ == '__main__':\n",
    "    a = int(input())\n",
    "    b = int(input())\n",
    "    print(a+b)\n",
    "    print(a-b)\n",
    "    print(a*b)"
   ]
  },
  {
   "cell_type": "markdown",
   "id": "3539bfe4",
   "metadata": {},
   "source": [
    "4. Python: Division"
   ]
  },
  {
   "cell_type": "code",
   "execution_count": null,
   "id": "60159641",
   "metadata": {},
   "outputs": [],
   "source": [
    "if __name__ == '__main__':\n",
    "    a = int(input())\n",
    "    b = int(input())\n",
    "    print(a//b)\n",
    "    print(a/b)"
   ]
  },
  {
   "cell_type": "markdown",
   "id": "5b63e041",
   "metadata": {},
   "source": [
    "5. Loops"
   ]
  },
  {
   "cell_type": "code",
   "execution_count": null,
   "id": "432cb8cd",
   "metadata": {},
   "outputs": [],
   "source": [
    "if __name__ == '__main__':\n",
    "    n = int(input())\n",
    "    for i in range(0,n):\n",
    "        print(i*i)"
   ]
  },
  {
   "cell_type": "markdown",
   "id": "8be2bce9",
   "metadata": {},
   "source": [
    "6. Write a Function "
   ]
  },
  {
   "cell_type": "code",
   "execution_count": null,
   "id": "783c82e0",
   "metadata": {},
   "outputs": [],
   "source": [
    "def is_leap(year):\n",
    "    leap = False\n",
    "    \n",
    "    # Write your logic here\n",
    "    if year%4 == 0:\n",
    "        if year%100 == 0:\n",
    "            if year%400 == 0:\n",
    "                leap = True\n",
    "            else:\n",
    "                leap = False\n",
    "        else:\n",
    "            leap = True\n",
    "    return leap"
   ]
  },
  {
   "cell_type": "markdown",
   "id": "9e559891",
   "metadata": {},
   "source": [
    "7. Print Function"
   ]
  },
  {
   "cell_type": "code",
   "execution_count": null,
   "id": "3bb54417",
   "metadata": {},
   "outputs": [],
   "source": [
    "if __name__ == '__main__':\n",
    "    n = int(input())\n",
    "    numbers = list(range(1,n+1))\n",
    "    print(*numbers, sep = '')"
   ]
  },
  {
   "cell_type": "markdown",
   "id": "b2efe77e",
   "metadata": {},
   "source": [
    "Data types"
   ]
  },
  {
   "cell_type": "markdown",
   "id": "baabd1ae",
   "metadata": {},
   "source": [
    "1. List Comprehensions"
   ]
  },
  {
   "cell_type": "code",
   "execution_count": null,
   "id": "9f2ba958",
   "metadata": {},
   "outputs": [],
   "source": [
    "if __name__ == '__main__':\n",
    "    x = int(input())\n",
    "    y = int(input())\n",
    "    z = int(input())\n",
    "    n = int(input())\n",
    "    coordinate = [[i,j,k] for i in range(x+1) for j in range(y+1) for k in range(z+1) if i+j+k != n]\n",
    "    print(coordinate)"
   ]
  },
  {
   "cell_type": "markdown",
   "id": "4f02095b",
   "metadata": {},
   "source": [
    "2. Find the Runner-Up Score! "
   ]
  },
  {
   "cell_type": "code",
   "execution_count": null,
   "id": "c8dfb532",
   "metadata": {},
   "outputs": [],
   "source": [
    "if __name__ == '__main__':\n",
    "    n = int(input())\n",
    "    arr = list(map(int, input().split()))\n",
    "    arr.sort()\n",
    "    max_score = arr[len(arr)-1] #the last number is the max\n",
    "    runner_up_score_index = len(arr)-1 #index of the last number\n",
    "    while arr[runner_up_score_index] >= max_score:\n",
    "        runner_up_score_index = runner_up_score_index -1\n",
    "    print(arr[runner_up_score_index])"
   ]
  },
  {
   "cell_type": "markdown",
   "id": "ec4e0956",
   "metadata": {},
   "source": [
    "3. Nested List"
   ]
  },
  {
   "cell_type": "code",
   "execution_count": null,
   "id": "5bdea79e",
   "metadata": {},
   "outputs": [],
   "source": [
    "if __name__ == '__main__':\n",
    "    #Make a nested list\n",
    "    python_students = []\n",
    "    for _ in range(int(input())):\n",
    "        name = input()\n",
    "        score = float(input())\n",
    "        couple = []\n",
    "        couple.append(name)\n",
    "        couple.append(score)\n",
    "        python_students.append(couple)\n",
    "    #Sort list in reverse score order\n",
    "    python_students.sort(reverse = True, key = lambda couple: couple[1])\n",
    "    min_score = python_students[len(python_students)-1][1] #last score of the list\n",
    "    #print(python_students)\n",
    "    actual_score = min_score\n",
    "    while actual_score == min_score:\n",
    "        python_students.pop()\n",
    "        actual_score = python_students[len(python_students)-1][1]\n",
    "    second_lowest_couple = [student for student in python_students if student[1]==actual_score]\n",
    "    second_lowest_student = []\n",
    "    for couple in second_lowest_couple:\n",
    "        second_lowest_student.append(couple[0])\n",
    "    second_lowest_student.sort()\n",
    "    for student in second_lowest_student:\n",
    "        print(student)"
   ]
  },
  {
   "cell_type": "markdown",
   "id": "3e9932a7",
   "metadata": {},
   "source": [
    "4. Finding the percentage"
   ]
  },
  {
   "cell_type": "code",
   "execution_count": null,
   "id": "40545c38",
   "metadata": {},
   "outputs": [],
   "source": [
    "if __name__ == '__main__':\n",
    "    n = int(input())\n",
    "    student_marks = {}\n",
    "    for _ in range(n):\n",
    "        name, *line = input().split()\n",
    "        scores = list(map(float, line))\n",
    "        student_marks[name] = scores\n",
    "    query_name = input()\n",
    "    query_score = student_marks[query_name]\n",
    "    query_mean = (sum(query_score)/3)\n",
    "    query_mean = format(query_mean,\".2f\")\n",
    "    print(query_mean)"
   ]
  },
  {
   "cell_type": "markdown",
   "id": "83d59cf9",
   "metadata": {},
   "source": [
    "5. Lists"
   ]
  },
  {
   "cell_type": "code",
   "execution_count": null,
   "id": "b152efd2",
   "metadata": {},
   "outputs": [],
   "source": [
    "if __name__ == '__main__':\n",
    "    N = int(input())\n",
    "    list = []\n",
    "    \n",
    "    \n",
    "    #Store comands in a nested list\n",
    "    comands_list = []\n",
    "    for i in range(N):\n",
    "        comand_input = input()\n",
    "        comand = comand_input.split()\n",
    "        comands_list.append(comand)\n",
    "    \n",
    "    for comand in comands_list:\n",
    "        if comand[0] == \"insert\":\n",
    "            list.insert(int(comand[1]),int(comand[2]))\n",
    "        elif comand[0] == \"print\":\n",
    "            print(list)\n",
    "        elif comand[0] == \"remove\":\n",
    "            list.remove(int(comand[1]))\n",
    "        elif comand[0] == \"append\":\n",
    "            list.append(int(comand[1]))\n",
    "        elif comand[0] == \"sort\":\n",
    "            list.sort()\n",
    "        elif comand[0] == \"pop\":\n",
    "            list.pop()\n",
    "        elif comand[0] == \"reverse\":\n",
    "            list.reverse()"
   ]
  },
  {
   "cell_type": "markdown",
   "id": "c5204ef8",
   "metadata": {},
   "source": [
    "6. Tuples"
   ]
  },
  {
   "cell_type": "code",
   "execution_count": null,
   "id": "b7cb50a6",
   "metadata": {},
   "outputs": [],
   "source": [
    "if __name__ == '__main__':\n",
    "    n = int(input())\n",
    "    integer_list = list(map(int, input().split()))\n",
    "    t = tuple(integer_list)\n",
    "    print(hash(t))"
   ]
  },
  {
   "cell_type": "markdown",
   "id": "3cbca628",
   "metadata": {},
   "source": [
    "Strings"
   ]
  },
  {
   "cell_type": "markdown",
   "id": "b90efa72",
   "metadata": {},
   "source": [
    "1. Find a String"
   ]
  },
  {
   "cell_type": "code",
   "execution_count": null,
   "id": "45f867be",
   "metadata": {},
   "outputs": [],
   "source": [
    "def count_substring(string, sub_string):\n",
    "    cont = 0\n",
    "    k = len(sub_string)\n",
    "    for i in range(len(string) -k + 1):\n",
    "        if sub_string == string[i:i+k]:\n",
    "            cont += 1\n",
    "        \n",
    "    return cont"
   ]
  },
  {
   "cell_type": "markdown",
   "id": "d6043a83",
   "metadata": {},
   "source": [
    "2. sWAP cASE"
   ]
  },
  {
   "cell_type": "code",
   "execution_count": null,
   "id": "e501e1be",
   "metadata": {},
   "outputs": [],
   "source": [
    "def swap_case(s):\n",
    "    new_s = ''\n",
    "    for character in s:\n",
    "        if character.islower():\n",
    "            new_character = character.upper()\n",
    "            \n",
    "        else:\n",
    "            new_character = character.lower()\n",
    "        new_s += new_character\n",
    "    return new_s"
   ]
  },
  {
   "cell_type": "markdown",
   "id": "28e5ac7e",
   "metadata": {},
   "source": [
    "3. String Split and Join"
   ]
  },
  {
   "cell_type": "code",
   "execution_count": null,
   "id": "cb020e14",
   "metadata": {},
   "outputs": [],
   "source": [
    "def split_and_join(line):\n",
    "    # write your code here\n",
    "    line = line.split()\n",
    "    line = \"-\".join(line)\n",
    "    return line\n",
    "\n",
    "if __name__ == '__main__':\n",
    "    line = input()\n",
    "    result = split_and_join(line)\n",
    "    print(result)"
   ]
  },
  {
   "cell_type": "markdown",
   "id": "593f2041",
   "metadata": {},
   "source": [
    "4. What's Your Name?"
   ]
  },
  {
   "cell_type": "code",
   "execution_count": null,
   "id": "c121adf1",
   "metadata": {},
   "outputs": [],
   "source": [
    "#\n",
    "# Complete the 'print_full_name' function below.\n",
    "#\n",
    "# The function is expected to return a STRING.\n",
    "# The function accepts following parameters:\n",
    "#  1. STRING first\n",
    "#  2. STRING last\n",
    "#\n",
    "\n",
    "def print_full_name(first, last):\n",
    "    # Write your code here\n",
    "    print (f\"Hello {first} {last}! You just delved into python.\")"
   ]
  },
  {
   "cell_type": "markdown",
   "id": "2f8d4a65",
   "metadata": {},
   "source": [
    "5. Mutations"
   ]
  },
  {
   "cell_type": "code",
   "execution_count": null,
   "id": "af3d1f03",
   "metadata": {},
   "outputs": [],
   "source": [
    "def mutate_string(string, position, character):\n",
    "    string_list = list(string)\n",
    "    string_list[position] = character\n",
    "    string = ''.join(string_list)\n",
    "    return string"
   ]
  },
  {
   "cell_type": "markdown",
   "id": "a9771211",
   "metadata": {},
   "source": [
    "6. String Validators"
   ]
  },
  {
   "cell_type": "code",
   "execution_count": null,
   "id": "a3588e5c",
   "metadata": {},
   "outputs": [],
   "source": [
    "if __name__ == '__main__':\n",
    "    s = input()\n",
    "    is_alphanum = False\n",
    "    is_alpha = False\n",
    "    is_digit = False\n",
    "    is_lowercase = False\n",
    "    is_uppercase = False\n",
    "    for characters in s:\n",
    "        if characters.isalnum():\n",
    "            is_alphanum = True\n",
    "        if characters.isalpha():\n",
    "            is_alpha = True\n",
    "        if characters.isdigit():\n",
    "            is_digit = True\n",
    "        if characters.islower():\n",
    "            is_lowercase = True"
   ]
  },
  {
   "cell_type": "markdown",
   "id": "1da029cc",
   "metadata": {},
   "source": [
    "7. Text Alignment"
   ]
  },
  {
   "cell_type": "code",
   "execution_count": null,
   "id": "b702b9ef",
   "metadata": {},
   "outputs": [],
   "source": [
    "#Replace all ______ with rjust, ljust or center. \n",
    "\n",
    "thickness = int(input()) #This must be an odd number\n",
    "c = 'H'\n",
    "\n",
    "#Top Cone\n",
    "for i in range(thickness):\n",
    "    print((c*i).rjust(thickness-1)+c+(c*i).ljust(thickness-1))\n",
    "\n",
    "#Top Pillars\n",
    "for i in range(thickness+1):\n",
    "    print((c*thickness).center(thickness*2)+(c*thickness).center(thickness*6))\n",
    "\n",
    "#Middle Belt\n",
    "for i in range((thickness+1)//2):\n",
    "    print((c*thickness*5).center(thickness*6))    \n",
    "\n",
    "#Bottom Pillars\n",
    "for i in range(thickness+1):\n",
    "    print((c*thickness).center(thickness*2)+(c*thickness).center(thickness*6))    \n",
    "\n",
    "#Bottom Cone\n",
    "for i in range(thickness):\n",
    "    print(((c*(thickness-i-1)).rjust(thickness)+c+(c*(thickness-i-1)).ljust(thickness)).rjust(thickness*6))"
   ]
  },
  {
   "cell_type": "markdown",
   "id": "9751b511",
   "metadata": {},
   "source": [
    "8. Text Wrap"
   ]
  },
  {
   "cell_type": "code",
   "execution_count": null,
   "id": "ed9aa914",
   "metadata": {},
   "outputs": [],
   "source": [
    "def wrap(string, max_width):\n",
    "    new_string = textwrap.fill(string,max_width)\n",
    "    \n",
    "    return new_string\n"
   ]
  },
  {
   "cell_type": "markdown",
   "id": "a121651b",
   "metadata": {},
   "source": [
    "9. Designer Door Mat"
   ]
  },
  {
   "cell_type": "code",
   "execution_count": null,
   "id": "9a7f077b",
   "metadata": {},
   "outputs": [],
   "source": [
    "# Enter your code here. Read input from STDIN. Print output to STDOUT\n",
    "N,M = map(int, input().split())\n",
    "\n",
    "#UPPER PART\n",
    "list_of_graphic = []  #useful for lower part\n",
    "basic_element = '.|.'\n",
    "list_of_graphic.append(basic_element) \n",
    "for i in range(1,int(N/2)+1):\n",
    "    if i !=1:   \n",
    "        basic_element += '.|..|.'\n",
    "        list_of_graphic.append(basic_element)\n",
    "    print(basic_element.center(M,'-'))\n",
    "    \n",
    "#WELCOME\n",
    "print('WELCOME'.center(M,'-'))\n",
    "\n",
    "#LOWER PART\n",
    "list_of_graphic = list_of_graphic[::-1] #reverse the list\n",
    "for character in list_of_graphic:\n",
    "    print(character.center(M,'-'))\n",
    "        \n",
    "     \n"
   ]
  },
  {
   "cell_type": "markdown",
   "id": "5053094b",
   "metadata": {},
   "source": [
    "10. String Formatting"
   ]
  },
  {
   "cell_type": "code",
   "execution_count": null,
   "id": "b5474ce6",
   "metadata": {},
   "outputs": [],
   "source": [
    "def print_formatted(number):\n",
    "    # your code goes here\n",
    "    width = len(format(number, 'b'))\n",
    "    for i in range(1,number+1):\n",
    "        #To print the numbers matched to binary value\n",
    "        #I need to use rjust, but int type has no rjust module\n",
    "        dec_string = str(i)\n",
    "        oct_string = str(format(i, 'o'))\n",
    "        hex_string = str(format(i, 'x')).upper()\n",
    "        bin_string = str(format(i, 'b'))\n",
    "        print(dec_string.rjust(width), oct_string.rjust(width), hex_string.rjust(width), bin_string.rjust(width))"
   ]
  },
  {
   "cell_type": "markdown",
   "id": "923283e1",
   "metadata": {},
   "source": [
    "11. Capitalize"
   ]
  },
  {
   "cell_type": "code",
   "execution_count": null,
   "id": "7400e511",
   "metadata": {},
   "outputs": [],
   "source": [
    "# Complete the solve function below.\n",
    "def solve(s):\n",
    "    new_s = [character for character in s]\n",
    "    new_s[0] = new_s[0].upper()\n",
    "    #index_position = 1\n",
    "    for i in range(len(new_s)):\n",
    "        if new_s[i] == ' ':\n",
    "            if i < len(new_s):\n",
    "                new_s[i+1] = new_s[i+1].upper()\n",
    "    s = ''.join(new_s)\n",
    "    return s"
   ]
  },
  {
   "cell_type": "markdown",
   "id": "315292e4",
   "metadata": {},
   "source": [
    "12. Merge Tools"
   ]
  },
  {
   "cell_type": "code",
   "execution_count": null,
   "id": "3f2e3164",
   "metadata": {},
   "outputs": [],
   "source": [
    "def merge_the_tools(string, k):\n",
    "    # your code goes here\n",
    "    for i in range(0,len(string) - k +1, k):\n",
    "        new_list = list(string[i:i+k])\n",
    "        new_sub_string = ''\n",
    "        for character in new_list:\n",
    "            if character not in new_sub_string:\n",
    "                new_sub_string += character\n",
    "        print(new_sub_string) "
   ]
  },
  {
   "cell_type": "markdown",
   "id": "2e2745d8",
   "metadata": {},
   "source": [
    "Sets"
   ]
  },
  {
   "cell_type": "markdown",
   "id": "2db4e837",
   "metadata": {},
   "source": [
    "1. Introduction to Sets"
   ]
  },
  {
   "cell_type": "code",
   "execution_count": null,
   "id": "e47671d1",
   "metadata": {},
   "outputs": [],
   "source": [
    "def average(array):\n",
    "    # your code goes here\n",
    "    set_score = set(array)\n",
    "    sum_score = sum(set_score)\n",
    "    return sum_score/len(set_score)"
   ]
  },
  {
   "cell_type": "markdown",
   "id": "6bdae35f",
   "metadata": {},
   "source": [
    "2. No Idea!\n"
   ]
  },
  {
   "cell_type": "code",
   "execution_count": null,
   "id": "228587bf",
   "metadata": {},
   "outputs": [],
   "source": [
    "# Enter your code here. Read input from STDIN. Print output to STDOUT\n",
    "\n",
    "#STORING ARRAY AND THE 2 SETS\n",
    "n, m = input().split()\n",
    "n = int(n)\n",
    "m = int(m)\n",
    "arr = list(map(int,input().split()))\n",
    "A = set(map(int, input().split()))\n",
    "B = set(map(int, input().split()))\n",
    "\n",
    "#COUONTING HAPPINESS\n",
    "happ = 0\n",
    "for i in arr:\n",
    "    if i in A:\n",
    "        happ += 1\n",
    "    elif i in B:\n",
    "        happ -= 1\n",
    "print(happ)\n"
   ]
  },
  {
   "cell_type": "markdown",
   "id": "6a5c38ed",
   "metadata": {},
   "source": [
    "3. Symmetric Difference\n"
   ]
  },
  {
   "cell_type": "code",
   "execution_count": null,
   "id": "28f121be",
   "metadata": {},
   "outputs": [],
   "source": [
    "# Enter your code here. Read input from STDIN. Print output to STDOUT\n",
    "\n",
    "#STORING M SET\n",
    "M = int(input())\n",
    "M_list = list(map(int,input().split()))\n",
    "M_set = set(M_list)\n",
    "\n",
    "#STORING N SET\n",
    "N = int(input())\n",
    "N_list = list(map(int,input().split()))\n",
    "N_set = set(N_list)\n",
    "\n",
    "#DIFF.SIMM FRA A e B = (A U B) - (A intesect B)\n",
    "simmetric_difference = M_set.intersection(N_set)\n",
    "simmetric_difference = (M_set.union(N_set)).difference(simmetric_difference)\n",
    "difference_list = list(simmetric_difference)\n",
    "difference_list.sort()\n",
    "for elm in difference_list:\n",
    "    print(elm)\n",
    "#print(simmetric_difference)\n",
    "\n"
   ]
  },
  {
   "cell_type": "markdown",
   "id": "ef98302e",
   "metadata": {},
   "source": [
    "4. Set .add()\n"
   ]
  },
  {
   "cell_type": "code",
   "execution_count": null,
   "id": "0da24265",
   "metadata": {},
   "outputs": [],
   "source": [
    "# Enter your code here. Read input from STDIN. Print output to STDOUT\n",
    "N = int(input())\n",
    "country_set =set()\n",
    "for i in range(N):\n",
    "    country_set.add(input())\n",
    "print(len(country_set))"
   ]
  },
  {
   "cell_type": "markdown",
   "id": "9c6d8f79",
   "metadata": {},
   "source": [
    "5. Set .discard(), .remove() & .pop()\n"
   ]
  },
  {
   "cell_type": "code",
   "execution_count": null,
   "id": "a8d4152c",
   "metadata": {},
   "outputs": [],
   "source": [
    "n = int(input())\n",
    "s = set(map(int, input().split()))\n",
    "N = int(input())\n",
    "\n",
    "#STORING COMMANDS\n",
    "list_command = []\n",
    "for i in range(N):\n",
    "    list_command.append(input().split())\n",
    "\n",
    "#EXECUTING COMMANDS\n",
    "for command in list_command:\n",
    "    if command[0] == 'pop':\n",
    "        s.pop()\n",
    "    elif command[0] == 'remove':\n",
    "        s.remove(int(command[1]))\n",
    "    elif command[0] == 'discard':\n",
    "        s.discard(int(command[1]))\n",
    "print(sum(s))\n"
   ]
  },
  {
   "cell_type": "markdown",
   "id": "68fa259c",
   "metadata": {},
   "source": [
    "6. Set .union() Operation"
   ]
  },
  {
   "cell_type": "code",
   "execution_count": null,
   "id": "32a32178",
   "metadata": {},
   "outputs": [],
   "source": [
    "# Enter your code here. Read input from STDIN. Print output to STDOUT\n",
    "N1 = int(input())\n",
    "english_stud = set(map(int,input().split()))\n",
    "N2 = int(input())\n",
    "french_stud = set(map(int,input().split()))\n",
    "tot_stud = english_stud|french_stud\n",
    "print(len(tot_stud))"
   ]
  },
  {
   "cell_type": "markdown",
   "id": "1b6aac2e",
   "metadata": {},
   "source": [
    "7. Set .intersection() Operation"
   ]
  },
  {
   "cell_type": "code",
   "execution_count": null,
   "id": "c4be288a",
   "metadata": {},
   "outputs": [],
   "source": [
    "# Enter your code here. Read input from STDIN. Print output to STDOUT\n",
    "N1 = int(input())\n",
    "english_stud = set(map(int,input().split()))\n",
    "N2 = int(input())\n",
    "french_stud = set(map(int,input().split()))\n",
    "intersect_stud = english_stud & french_stud\n",
    "print(len(intersect_stud))"
   ]
  },
  {
   "cell_type": "markdown",
   "id": "ab709f7b",
   "metadata": {},
   "source": [
    "8. Set .difference() Operation\n"
   ]
  },
  {
   "cell_type": "code",
   "execution_count": null,
   "id": "aa4f5077",
   "metadata": {},
   "outputs": [],
   "source": [
    "# Enter your code here. Read input from STDIN. Print output to STDOUT\n",
    "N1 = int(input())\n",
    "english_stud = set(map(int,input().split()))\n",
    "N2 = int(input())\n",
    "french_stud = set(map(int,input().split()))\n",
    "diff_stud = english_stud - french_stud\n",
    "print(len(diff_stud))"
   ]
  },
  {
   "cell_type": "markdown",
   "id": "68f32462",
   "metadata": {},
   "source": [
    "9. Set .symmetric_difference() Operation\n"
   ]
  },
  {
   "cell_type": "code",
   "execution_count": null,
   "id": "aac97adf",
   "metadata": {},
   "outputs": [],
   "source": [
    "# Enter your code here. Read input from STDIN. Print output to STDOUT\n",
    "N1 = int(input())\n",
    "english_stud = set(map(int,input().split()))\n",
    "N2 = int(input())\n",
    "french_stud = set(map(int,input().split()))\n",
    "\n",
    "#SIMM DIFF = UNION - INTERSECTION\n",
    "simm_diff_stud = (english_stud|french_stud) - (english_stud&french_stud)\n",
    "print(len(simm_diff_stud))"
   ]
  },
  {
   "cell_type": "markdown",
   "id": "660b2c96",
   "metadata": {},
   "source": [
    "10.  Set Mutations "
   ]
  },
  {
   "cell_type": "code",
   "execution_count": null,
   "id": "b1b6274b",
   "metadata": {},
   "outputs": [],
   "source": [
    "# Enter your code here. Read input from STDIN. Print output to STDOUT\n",
    "N = int(input())\n",
    "A = set(map(int, input().split()))\n",
    "number_of_sets = int(input())\n",
    "\n",
    "#STORING COMMANDS AND SETS\n",
    "list_commands = []\n",
    "list_sets =[]\n",
    "for i in range(number_of_sets):\n",
    "    new_command = input()\n",
    "    new_command = new_command.split()\n",
    "    list_commands.append(new_command)\n",
    "    new_set = set(map(int, input().split()))\n",
    "    list_sets.append(new_set)\n",
    "\n",
    "#EXECUTING COMMANDS\n",
    "actual_set_index = 0\n",
    "for command in list_commands:\n",
    "    #print('A= ', A)\n",
    "    if command[0] == 'intersection_update':\n",
    "        A.intersection_update(list_sets[actual_set_index])\n",
    "    elif command[0] == 'update':\n",
    "        A.update(list_sets[actual_set_index])\n",
    "    elif command[0] == 'symmetric_difference_update':\n",
    "        A.symmetric_difference_update(list_sets[actual_set_index])\n",
    "    elif command[0] == 'difference_update':\n",
    "        A.difference_update(list_sets[actual_set_index])\n",
    "    \n",
    "    actual_set_index += 1\n",
    "    \n",
    "print(sum(A))"
   ]
  },
  {
   "cell_type": "markdown",
   "id": "4b377934",
   "metadata": {},
   "source": [
    "11. The Captain's Room"
   ]
  },
  {
   "cell_type": "code",
   "execution_count": null,
   "id": "5824e199",
   "metadata": {},
   "outputs": [],
   "source": [
    "# Enter your code here. Read input from STDIN. Print output to STDOUT\n",
    "K = int(input()) #size of each group\n",
    "room_numbers = list(map(int, input().split()))  \n",
    "room_numbers.sort()\n",
    "\n",
    "captain_room = 0\n",
    "is_founded = False\n",
    "for i in range(0, len(room_numbers), K):\n",
    "    control = room_numbers[i]\n",
    "    for j in range(K):\n",
    "        #IF THE OCCURENCES OF THE ROOM NUMBER ARE <= K -> IT'S CAPTAIN ROOM\n",
    "        if room_numbers[j+i] != control: \n",
    "            is_founded = True\n",
    "            captain_room = room_numbers[j+i-1]\n",
    "            break\n",
    "        #IF THE CAPTAIN ROOM IS THE LAST ELEMENT OF THE LIST\n",
    "        elif i+j == (len(room_numbers)-1):\n",
    "            is_founded = True\n",
    "            captain_room = room_numbers[j+i]\n",
    "            break\n",
    "            \n",
    "    if is_founded:\n",
    "        break\n",
    "print(captain_room)"
   ]
  },
  {
   "cell_type": "markdown",
   "id": "fea7e2d5",
   "metadata": {},
   "source": [
    "12. Check Subset"
   ]
  },
  {
   "cell_type": "code",
   "execution_count": null,
   "id": "dff55e96",
   "metadata": {},
   "outputs": [],
   "source": [
    "# Enter your code here. Read input from STDIN. Print output to STDOUT\n",
    "number_of_test = int(input())\n",
    "\n",
    "for i in range(number_of_test):\n",
    "    length_of_A = int(input())\n",
    "    A = set(map(int,input().split()))   \n",
    "    lenght_B = int(input())\n",
    "    set_B = set(map(int,input().split()))\n",
    "    if A&set_B == A:\n",
    "        print(True)\n",
    "    else:\n",
    "        print(False)"
   ]
  },
  {
   "cell_type": "markdown",
   "id": "9d8c1346",
   "metadata": {},
   "source": [
    "13. Check Strict Superset"
   ]
  },
  {
   "cell_type": "code",
   "execution_count": null,
   "id": "cde4407f",
   "metadata": {},
   "outputs": [],
   "source": [
    "# Enter your code here. Read input from STDIN. Print output to STDOUT\n",
    "A = set(map(int, input().split()))\n",
    "list_N_sets = []\n",
    "is_strict_superset_of_all = True\n",
    "for i in range(int(input())):\n",
    "    new_set = set(map(int,input().split()))\n",
    "    #A is a strict superset iff A intersect new_set = new_set and A-new_set is not empty\n",
    "    if A&new_set != new_set or A-new_set == set():  \n",
    "        is_strict_superset_of_all = False\n",
    "        break\n",
    "print(is_strict_superset_of_all)"
   ]
  },
  {
   "cell_type": "markdown",
   "id": "b7d11afc",
   "metadata": {},
   "source": [
    "Collections"
   ]
  },
  {
   "cell_type": "markdown",
   "id": "d8b084c3",
   "metadata": {},
   "source": [
    "1. collections.Counter()"
   ]
  },
  {
   "cell_type": "code",
   "execution_count": null,
   "id": "49eafa92",
   "metadata": {},
   "outputs": [],
   "source": [
    "# Enter your code here. Read input from STDIN. Print output to STDOUT\n",
    "from collections import Counter\n",
    "\n",
    "X = int(input())\n",
    "profit = 0\n",
    "sizes_available = list(map(int, input().split()))\n",
    "sizes_available = Counter(sizes_available)\n",
    "num_customers = int(input())\n",
    "\n",
    "for i in range(num_customers):\n",
    "    shoe_size, price = map(int, input().split())\n",
    "    if shoe_size in sizes_available.keys() and sizes_available[shoe_size]>0:\n",
    "        sizes_available[shoe_size] -= 1\n",
    "        profit += price\n",
    "print(profit)"
   ]
  },
  {
   "cell_type": "markdown",
   "id": "c1827e58",
   "metadata": {},
   "source": [
    "2. DefaultDict Tutorial\n"
   ]
  },
  {
   "cell_type": "code",
   "execution_count": null,
   "id": "513f036f",
   "metadata": {},
   "outputs": [],
   "source": [
    "# Enter your code here. Read input from STDIN. Print output to STDOUT\n",
    "from collections import defaultdict\n",
    "\n",
    "d_A = defaultdict()\n",
    "d_B = defaultdict()\n",
    "size_A, size_B = map(int,input().split())\n",
    "\n",
    "#STORING DICT A\n",
    "for i in range(size_A):\n",
    "    d_A[i+1] = input()\n",
    "\n",
    "#STORING DICT B\n",
    "for i in range(size_B):\n",
    "    d_B[i+1] = input()\n",
    "    \n",
    "for letter in d_B.values():\n",
    "    letter_positions = []\n",
    "    A_values = list(d_A.values())\n",
    "    for i in range(1, len(A_values)+1):\n",
    "        if letter == A_values[i-1]:\n",
    "            letter_positions.append(i)\n",
    "    if letter_positions == []:\n",
    "        print(-1)\n",
    "    else:\n",
    "        print(*letter_positions)"
   ]
  },
  {
   "cell_type": "markdown",
   "id": "8e392e8b",
   "metadata": {},
   "source": [
    "3. Collections.namedtuple()\n"
   ]
  },
  {
   "cell_type": "code",
   "execution_count": null,
   "id": "0c753973",
   "metadata": {},
   "outputs": [],
   "source": [
    "# Enter your code here. Read input from STDIN. Print output to STDOUT\n",
    "from collections import namedtuple\n",
    "\n",
    "num_stud = int(input())\n",
    "ordered_fields = input().split()\n",
    "Student = namedtuple('Student', ordered_fields)  #DEFINING A NEW CLASS CALLED STUDENT\n",
    "average = 0\n",
    "for i in range(num_stud):\n",
    "    new_input = input().split()    \n",
    "    new_stud = Student(new_input[0],new_input[1],new_input[2],new_input[3])\n",
    "    average += int(new_stud.MARKS)\n",
    "print(average/num_stud)"
   ]
  },
  {
   "cell_type": "markdown",
   "id": "b6bd9718",
   "metadata": {},
   "source": [
    "4. Collections.OrderedDict()"
   ]
  },
  {
   "cell_type": "code",
   "execution_count": null,
   "id": "37a2663d",
   "metadata": {},
   "outputs": [],
   "source": [
    "# Enter your code here. Read input from STDIN. Print output to STDOUT\n",
    "from collections import OrderedDict\n",
    "ordered_dictionary = OrderedDict()\n",
    "\n",
    "for i in range(int(input())):\n",
    "    item = list(input().split())\n",
    "    if len(item) == 3:   #item_name composed by two names\n",
    "        item_name = item[0] + ' ' + item[1]\n",
    "        net_price = int(item[2])\n",
    "        if i> 0 and item_name in ordered_dictionary:  #item already appeared\n",
    "            ordered_dictionary[item_name] += net_price\n",
    "        else:\n",
    "            ordered_dictionary[item_name] = net_price\n",
    "    elif len(item) == 2:   #just one name\n",
    "        item_name = item[0]\n",
    "        net_price = int(item[1])\n",
    "        if i> 0 and item_name in ordered_dictionary:  #item already appeared\n",
    "            ordered_dictionary[item_name] += net_price\n",
    "        else:\n",
    "            ordered_dictionary[item_name] = net_price\n",
    "      \n",
    "for keys in ordered_dictionary:\n",
    "    print(keys, ordered_dictionary[keys])"
   ]
  },
  {
   "cell_type": "markdown",
   "id": "19cb3955",
   "metadata": {},
   "source": [
    "5. Word Order"
   ]
  },
  {
   "cell_type": "code",
   "execution_count": null,
   "id": "6c5e94a5",
   "metadata": {},
   "outputs": [],
   "source": [
    "# Enter your code here. Read input from STDIN. Print output to STDOUT\n",
    "from collections import Counter\n",
    "\n",
    "N = int(input())\n",
    "list_words = []\n",
    "for i in range(N):\n",
    "    word = input()\n",
    "    list_words.append(word)\n",
    "words = Counter(list_words)\n",
    "print(len(words))\n",
    "values = [value for value in words.values()]\n",
    "print(*values)"
   ]
  },
  {
   "cell_type": "markdown",
   "id": "668becae",
   "metadata": {},
   "source": [
    "6. Collections.deque()\n"
   ]
  },
  {
   "cell_type": "code",
   "execution_count": null,
   "id": "8785fe60",
   "metadata": {},
   "outputs": [],
   "source": [
    "# Enter your code here. Read input from STDIN. Print output to STDOUT\n",
    "from collections import deque\n",
    "d = deque()\n",
    "for i in range(int(input())):\n",
    "    command = input().split()  #return a list\n",
    "    if command[0] == 'pop':\n",
    "        d.pop()\n",
    "    elif command[0] == 'popleft':\n",
    "        d.popleft()\n",
    "    elif command[0] == 'append':\n",
    "        d.append(int(command[1]))\n",
    "    elif command[0] == 'appendleft':\n",
    "        d.appendleft(int(command[1]))\n",
    "print(*d)"
   ]
  },
  {
   "cell_type": "markdown",
   "id": "bd1b04d3",
   "metadata": {},
   "source": [
    "7. Company Logo\n"
   ]
  },
  {
   "cell_type": "code",
   "execution_count": null,
   "id": "5dc869be",
   "metadata": {},
   "outputs": [],
   "source": [
    "#!/bin/python3\n",
    "\n",
    "import math\n",
    "import os\n",
    "import random\n",
    "import re\n",
    "import sys\n",
    "from collections import Counter\n",
    "\n",
    "\n",
    "if __name__ == '__main__':\n",
    "    s = input()\n",
    "    s_list = list(s)  \n",
    "    s_list_ordered = sorted(s_list)  \n",
    "    company_dict = Counter(s_list_ordered)\n",
    "    most_common = company_dict.most_common(3)\n",
    "    #Now we control if the occurrences are all different\n",
    "    for x in most_common:  #each x is a key-value tuple\n",
    "        print(*x)"
   ]
  },
  {
   "cell_type": "markdown",
   "id": "37291278",
   "metadata": {},
   "source": [
    "8. Piling Up!\n"
   ]
  },
  {
   "cell_type": "code",
   "execution_count": null,
   "id": "13ce81fa",
   "metadata": {},
   "outputs": [],
   "source": [
    "# Enter your code here. Read input from STDIN. Print output to STDOUT\n",
    "from collections import deque\n",
    "\n",
    "def max(blocks):\n",
    "    if blocks[0] > blocks[len(blocks)-1]:\n",
    "        return blocks[0]\n",
    "    else:\n",
    "        return blocks[len(blocks)-1]\n",
    "\n",
    "def is_good_for_piling_up(blocks, size) :\n",
    "    #BLOCKS IS A DEQUE COLLECTION, SIZE IS THE SIZE OF THE BLOCKS\n",
    "    while size > 1:\n",
    "        max_block = max(blocks)\n",
    "        if max_block == blocks[0]:  #it's the left one\n",
    "            blocks.popleft()\n",
    "            size -= 1\n",
    "        else: #it's the right one\n",
    "            blocks.pop()\n",
    "            size -= 1\n",
    "        new_max = max(blocks)\n",
    "        if new_max > max_block:\n",
    "            return 'No'\n",
    "    if size == 1:  #just one block remaining\n",
    "        if blocks[0] > new_max:\n",
    "            return 'No'\n",
    "        else:\n",
    "            return 'Yes'\n",
    "            \n",
    "            \n",
    "            \n",
    "        \n",
    "\n",
    "T = int(input())\n",
    "for i in range(T):\n",
    "    size = int(input())\n",
    "    blocks = deque(list(map(int,input().split())))\n",
    "    print(is_good_for_piling_up(blocks, size))"
   ]
  },
  {
   "cell_type": "markdown",
   "id": "865860b6",
   "metadata": {},
   "source": [
    "Date and Time"
   ]
  },
  {
   "cell_type": "markdown",
   "id": "0e474cab",
   "metadata": {},
   "source": [
    "1. Calendar Module\n"
   ]
  },
  {
   "cell_type": "code",
   "execution_count": null,
   "id": "a0404230",
   "metadata": {},
   "outputs": [],
   "source": [
    "# Enter your code here. Read input from STDIN. Print output to STDOUT\n",
    "import calendar\n",
    "days = ['Monday', 'Tuesday', 'Wednesday', 'Thursday', 'Friday', 'Saturday',\n",
    "            'Sunday']\n",
    "month, day, year = input().split()\n",
    "weekday = calendar.weekday(int(year), int(month), int(day)) #Returns the day of the week (0 is Monday)\n",
    "print(days[weekday].upper()) "
   ]
  },
  {
   "cell_type": "markdown",
   "id": "3a4cad66",
   "metadata": {},
   "source": [
    "Exceptions"
   ]
  },
  {
   "cell_type": "code",
   "execution_count": null,
   "id": "b64f1424",
   "metadata": {},
   "outputs": [],
   "source": [
    "# Enter your code here. Read input from STDIN. Print output to STDOUT\n",
    "number_cases = int(input())\n",
    "for i in range(number_cases):\n",
    "    a,b = input().split()\n",
    "    if b.isdigit() == False:\n",
    "        print(f\"Error Code: invalid literal for int() with base 10: '{b}'\")\n",
    "    elif a.isdigit() == False:\n",
    "        print(f\"Error Code: invalid literal for int() with base 10: '{a}'\")\n",
    "    elif int(b) == 0:\n",
    "        print(\"Error Code: integer division or modulo by zero\")\n",
    "    else:\n",
    "        print(int(int(a)/int(b)))\n",
    "    "
   ]
  },
  {
   "cell_type": "markdown",
   "id": "ee18619a",
   "metadata": {},
   "source": [
    "Built-ins\n"
   ]
  },
  {
   "cell_type": "markdown",
   "id": "51fb66b7",
   "metadata": {},
   "source": [
    "1. Zipped!"
   ]
  },
  {
   "cell_type": "code",
   "execution_count": null,
   "id": "41e83243",
   "metadata": {},
   "outputs": [],
   "source": [
    "# Enter your code here. Read input from STDIN. Print output to STDOUT\n",
    "N_stud, X_num_subj = map(int,input().split())\n",
    "list_scores = []\n",
    "\n",
    "for subj in range(X_num_subj):\n",
    "    sub_tot_scores = list(map(float,input().split()))\n",
    "    list_scores.append(sub_tot_scores)\n",
    "tot_scores = list(zip(*list_scores))  #each element is the tuple of all scores of each student\n",
    "\n",
    "for score in tot_scores:   #a loop through tuples\n",
    "    average = (sum(score)/X_num_subj)\n",
    "    print(average)"
   ]
  },
  {
   "cell_type": "markdown",
   "id": "777c582a",
   "metadata": {},
   "source": [
    "2. Athlete Sort"
   ]
  },
  {
   "cell_type": "code",
   "execution_count": null,
   "id": "aaa19d9d",
   "metadata": {},
   "outputs": [],
   "source": [
    "#!/bin/python3\n",
    "\n",
    "import math\n",
    "import os\n",
    "import random\n",
    "import re\n",
    "import sys\n",
    "\n",
    "\n",
    "\n",
    "if __name__ == '__main__':\n",
    "    first_multiple_input = input().rstrip().split()\n",
    "\n",
    "    n = int(first_multiple_input[0])\n",
    "\n",
    "    m = int(first_multiple_input[1])\n",
    "\n",
    "    arr = []\n",
    "\n",
    "    for _ in range(n):\n",
    "        arr.append(list(map(int, input().rstrip().split())))\n",
    "\n",
    "    k = int(input().strip())\n",
    "    # MY CODE\n",
    "    arr.sort(key = lambda arr : arr[k])\n",
    "    for athlete in arr:\n",
    "        print(*athlete)"
   ]
  },
  {
   "cell_type": "markdown",
   "id": "f302cb5f",
   "metadata": {},
   "source": [
    "3. ginortS"
   ]
  },
  {
   "cell_type": "code",
   "execution_count": null,
   "id": "2b3719f0",
   "metadata": {},
   "outputs": [],
   "source": [
    "# Enter your code here. Read input from STDIN. Print output to STDOUT\n",
    "S = list(map(str,input()))\n",
    "upper_case_list = []\n",
    "lower_case_list = []\n",
    "odd_num_list = []\n",
    "even_num_list = []\n",
    "for s in S:\n",
    "    if s.isdigit():\n",
    "        if int(s) % 2 == 1: #s is odd number\n",
    "          odd_num_list.append(s)\n",
    "        else:\n",
    "           even_num_list.append(s)   \n",
    "    else:  #s is not a digit\n",
    "        if s.isupper():\n",
    "            upper_case_list.append(s)\n",
    "        else:\n",
    "            lower_case_list.append(s)\n",
    "\n",
    "upper_case_list = sorted(upper_case_list)\n",
    "lower_case_list = sorted(lower_case_list)\n",
    "odd_num_list = sorted(odd_num_list)\n",
    "even_num_list = sorted(even_num_list)\n",
    "S = lower_case_list + upper_case_list + odd_num_list + even_num_list\n",
    "\n",
    "new_S = ''\n",
    "for x in S:\n",
    "    new_S += x\n",
    "print(new_S)"
   ]
  },
  {
   "cell_type": "markdown",
   "id": "7e5565c7",
   "metadata": {},
   "source": [
    "Python Functionals"
   ]
  },
  {
   "cell_type": "markdown",
   "id": "e643483a",
   "metadata": {},
   "source": [
    "1. Map and Lambda Function"
   ]
  },
  {
   "cell_type": "code",
   "execution_count": null,
   "id": "819ad537",
   "metadata": {},
   "outputs": [],
   "source": [
    "cube = lambda x: x**3 \n",
    "\n",
    "def fibonacci(n):\n",
    "    # return a list of fibonacci numbers\n",
    "    if n == 0:\n",
    "        return []\n",
    "    elif n == 1:\n",
    "        return [0]\n",
    "    elif n == 2:\n",
    "        return [0,1]\n",
    "    else:\n",
    "        fib_list = [0,1]\n",
    "        for i in range(2,n):  #from the third element\n",
    "            fib_list.append(fib_list[i-1]+fib_list[i-2])\n",
    "        return fib_list\n",
    "        \n",
    "\n",
    "if __name__ == '__main__':\n",
    "    n = int(input())\n",
    "    print(list(map(cube, fibonacci(n))))"
   ]
  },
  {
   "cell_type": "markdown",
   "id": "d5518868",
   "metadata": {},
   "source": [
    "Regex and Parsing challenges"
   ]
  },
  {
   "cell_type": "markdown",
   "id": "15c83635",
   "metadata": {},
   "source": [
    "1. Detect Floating Point Number"
   ]
  },
  {
   "cell_type": "code",
   "execution_count": null,
   "id": "48853609",
   "metadata": {},
   "outputs": [],
   "source": [
    "# Enter your code here. Read input from STDIN. Print output to STDOUT\n",
    "import re\n",
    "T = int(input())\n",
    "r = re.compile('[+-]?[0-9]*\\.[0-9]+') \n",
    "for i in range(T):\n",
    "    x = input()\n",
    "    if r.fullmatch(x) == None:  #fullmatch return None if no match can be done\n",
    "        print(False)\n",
    "    else:\n",
    "        print(True)"
   ]
  },
  {
   "cell_type": "markdown",
   "id": "2d94bd4d",
   "metadata": {},
   "source": [
    "2. Re.split()"
   ]
  },
  {
   "cell_type": "code",
   "execution_count": null,
   "id": "55a51057",
   "metadata": {},
   "outputs": [],
   "source": [
    "regex_pattern = r\"[,.]\"\t# Do not delete 'r'."
   ]
  },
  {
   "cell_type": "markdown",
   "id": "6d5a55f9",
   "metadata": {},
   "source": [
    "3. Group(), Groups() & Groupdict()\n"
   ]
  },
  {
   "cell_type": "code",
   "execution_count": null,
   "id": "c113a86f",
   "metadata": {},
   "outputs": [],
   "source": [
    "# Enter your code here. Read input from STDIN. Print output to STDOUT\n",
    "import re\n",
    "s = input()\n",
    "m = re.search(r\"([a-zA-Z0-9])\\1\", s)\n",
    "if m:\n",
    "    print(m.group(1))\n",
    "else:\n",
    "    print(-1)"
   ]
  },
  {
   "cell_type": "markdown",
   "id": "0e784be3",
   "metadata": {},
   "source": [
    "4. Re.findall() & Re.finditer()\n"
   ]
  },
  {
   "cell_type": "code",
   "execution_count": null,
   "id": "a6a3f0a5",
   "metadata": {},
   "outputs": [],
   "source": [
    "# Enter your code here. Read input from STDIN. Print output to STDOUT\n",
    "import re\n",
    "\n",
    "r = r'(?<=[QWRTYPSDFGHJKLZXCVBNMqwrtypsdfghjklzxcvbnm])[AEIOUaeiou]{2,}(?=[QWRTYPSDFGHJKLZXCVBNMqwrtypsdfghjklzxcvbnm])'  \n",
    "matches = re.findall(r,input())\n",
    "if matches == []:  #empty list\n",
    "    print(-1)\n",
    "else:\n",
    "    for match in matches:\n",
    "        print(match)"
   ]
  },
  {
   "cell_type": "markdown",
   "id": "e61b9ee4",
   "metadata": {},
   "source": [
    "5. Re.start() & Re.end()"
   ]
  },
  {
   "cell_type": "code",
   "execution_count": null,
   "id": "1af7b9cb",
   "metadata": {},
   "outputs": [],
   "source": [
    "# Enter your code here. Read input from STDIN. Print output to STDOUT\n",
    "import re\n",
    "\n",
    "S = input()\n",
    "k_substring = input()\n",
    "len_S = len(S)\n",
    "len_k = len(k_substring)\n",
    "if re.search(k_substring,S) == None:   #if the substring doesn't appear in S\n",
    "    print((-1,-1))\n",
    "else:\n",
    "    i = 0\n",
    "    while i <= len_S-len_k :\n",
    "        while re.search(k_substring,S[i:]):  #it works till it finds an occurrence\n",
    "            if len_k == 1:   #we focus on single character apart\n",
    "                match = re.search(k_substring,S[i:])\n",
    "                start_index = match.start()+i\n",
    "                end_index = match.end()+i-1\n",
    "                print((start_index,end_index))\n",
    "                i = end_index + 1   #because if single character, start_index = end_index\n",
    "            else:\n",
    "                match = re.search(k_substring,S[i:])\n",
    "                start_index = match.start()+i\n",
    "                end_index = match.end()+i-1 #end returns the position after the last matching\n",
    "                print((start_index,end_index))        #so we have to do -1\n",
    "                i = end_index\n",
    "        break"
   ]
  },
  {
   "cell_type": "markdown",
   "id": "98491808",
   "metadata": {},
   "source": [
    "6. Validating phone numbers\n"
   ]
  },
  {
   "cell_type": "code",
   "execution_count": null,
   "id": "fa453007",
   "metadata": {},
   "outputs": [],
   "source": [
    "# Enter your code here. Read input from STDIN. Print output to STDOUT\n",
    "import re\n",
    "\n",
    "regex_pattern = r'[789][0-9]{9}'\n",
    "numbers = []\n",
    "for i in range(int(input())):\n",
    "    numbers.append(input())\n",
    "for number in numbers:\n",
    "    match = re.match(regex_pattern, number)\n",
    "    if len(number) == 10 and match:\n",
    "        print('YES')\n",
    "    else:\n",
    "        print('NO')"
   ]
  },
  {
   "cell_type": "markdown",
   "id": "b3c271c8",
   "metadata": {},
   "source": [
    "7. Validating and Parsing Email Addresses\n"
   ]
  },
  {
   "cell_type": "code",
   "execution_count": null,
   "id": "00ac0934",
   "metadata": {},
   "outputs": [],
   "source": [
    "# Enter your code here. Read input from STDIN. Print output to STDOUT \n",
    "import email.utils\n",
    "import re\n",
    "\n",
    "\n",
    "pattern = r'<[A-Za-z][A-Za-z0-9_.-]*@[A-Za-z]+\\.[A-Za-z]{1,3}>'\n",
    "\n",
    "n = int(input())\n",
    "for _ in range(n):\n",
    "    name, email = input().split()\n",
    "    if re.match(pattern, email):\n",
    "        print(f\"{name} {email}\")"
   ]
  },
  {
   "cell_type": "markdown",
   "id": "4891e12e",
   "metadata": {},
   "source": [
    "8. Validating UID"
   ]
  },
  {
   "cell_type": "code",
   "execution_count": null,
   "id": "0fe11d3d",
   "metadata": {},
   "outputs": [],
   "source": [
    "# Enter your code here. Read input from STDIN. Print output to STDOUT\n",
    "import re\n",
    "\n",
    "def is_valid(string):\n",
    "    ##Rules\n",
    "    #At least 2 uppercase English alphabet characters\n",
    "    upper = r'.*[A-Z].*[A-Z].*'\n",
    "    #At least 3 digits (0-9)\n",
    "    digits = r'.*[0-9].*[0-9].*[0-9].*'\n",
    "    #only alphanumeric \n",
    "    only = r'[^a-zA-Z0-9]'\n",
    "    #No character should repeat\n",
    "    no_repetition = r'(.)[A-Za-z0-9]*\\1'\n",
    "    if (re.search(upper,string)) and (re.search(digits,string)) and (not re.search(only,string)) and (not re.search(no_repetition,string)) and (len(string) == 10) :\n",
    "        return True\n",
    "    else:\n",
    "        return False\n",
    "    \n",
    "    \n",
    "    \n",
    "    \n",
    "T = int(input())\n",
    "UID_list = []\n",
    "for i in range(T):\n",
    "    UID_list.append(input())\n",
    "for UID in UID_list:\n",
    "    if is_valid(UID):\n",
    "        print('Valid')\n",
    "    else:\n",
    "        print('Invalid')"
   ]
  },
  {
   "cell_type": "markdown",
   "id": "068c0ab3",
   "metadata": {},
   "source": [
    "Numpy"
   ]
  },
  {
   "cell_type": "markdown",
   "id": "e26adcf7",
   "metadata": {},
   "source": [
    "1. Arrays"
   ]
  },
  {
   "cell_type": "code",
   "execution_count": null,
   "id": "a3abf1bf",
   "metadata": {},
   "outputs": [],
   "source": [
    "import numpy\n",
    "\n",
    "def arrays(arr):\n",
    "    # complete this function\n",
    "    # use numpy.array\n",
    "    new_array = numpy.array(arr, float)\n",
    "    return new_array[::-1]\n",
    "\n",
    "arr = input().strip().split(' ')\n",
    "result = arrays(arr)\n",
    "print(result)"
   ]
  },
  {
   "cell_type": "markdown",
   "id": "f01cec11",
   "metadata": {},
   "source": [
    "2. Shape and Reshape\n"
   ]
  },
  {
   "cell_type": "code",
   "execution_count": null,
   "id": "ef2062d0",
   "metadata": {},
   "outputs": [],
   "source": [
    "# Enter your code here. Read input from STDIN. Print output to STDOUT\n",
    "import numpy\n",
    "\n",
    "list_of_number = list(map(int,input().split()))\n",
    "array_of_number = numpy.array(list_of_number)\n",
    "print(numpy.reshape(array_of_number, (3,3)))"
   ]
  },
  {
   "cell_type": "markdown",
   "id": "52608fc0",
   "metadata": {},
   "source": [
    "3. Transpose and Flatten\n"
   ]
  },
  {
   "cell_type": "code",
   "execution_count": null,
   "id": "50749b5a",
   "metadata": {},
   "outputs": [],
   "source": [
    "# Enter your code here. Read input from STDIN. Print output to STDOUT\n",
    "import numpy as np\n",
    "\n",
    "N, M = map(int,input().split())\n",
    "matrix_list = []\n",
    "for i in range(N):\n",
    "    rows = list(map(int, input().split()))\n",
    "    matrix_list.append(rows)\n",
    "matrix = np.array(matrix_list)\n",
    "\n",
    "print(np.transpose(matrix))\n",
    "print(matrix.flatten())"
   ]
  },
  {
   "cell_type": "markdown",
   "id": "3be2d1c9",
   "metadata": {},
   "source": [
    "4. Concatenate"
   ]
  },
  {
   "cell_type": "code",
   "execution_count": null,
   "id": "2a0dd767",
   "metadata": {},
   "outputs": [],
   "source": [
    "# Enter your code here. Read input from STDIN. Print output to STDOUT\n",
    "import numpy as np\n",
    "\n",
    "#STORING NxP MATRIX\n",
    "N,M,P = map(int,input().split())\n",
    "N_rows = []\n",
    "for i in range(N):\n",
    "    row = list(map(int,input().split()))\n",
    "    N_rows.append(row)\n",
    "N_P_matrix = np.array(N_rows)\n",
    "\n",
    "#STORING MxP MATRIX\n",
    "M_rows = []\n",
    "for i in range(M):\n",
    "    row = list(map(int,input().split()))\n",
    "    M_rows.append(row)\n",
    "M_P_matrix = np.array(M_rows)\n",
    "\n",
    "print(np.concatenate((N_P_matrix,M_P_matrix), axis = 0))"
   ]
  },
  {
   "cell_type": "markdown",
   "id": "ab618a4d",
   "metadata": {},
   "source": [
    "5. Zeros and Ones"
   ]
  },
  {
   "cell_type": "code",
   "execution_count": null,
   "id": "b7749c4a",
   "metadata": {},
   "outputs": [],
   "source": [
    "# Enter your code here. Read input from STDIN. Print output to STDOUT\n",
    "import numpy as np\n",
    "\n",
    "dimensions = tuple(map(int,input().split()))\n",
    "\n",
    "print(np.zeros(dimensions,dtype = np.int))\n",
    "print(np.ones(dimensions, dtype = np.int))"
   ]
  },
  {
   "cell_type": "markdown",
   "id": "9575e1df",
   "metadata": {},
   "source": [
    "6. Eye and Identity"
   ]
  },
  {
   "cell_type": "code",
   "execution_count": null,
   "id": "20369b96",
   "metadata": {},
   "outputs": [],
   "source": [
    "# Enter your code here. Read input from STDIN. Print output to STDOUT\n",
    "import numpy as np\n",
    "np.set_printoptions(legacy='1.13')  #written in the indications of Hacker\n",
    "\n",
    "N,M = map(int,input().split())\n",
    "print(np.eye(N,M))"
   ]
  },
  {
   "cell_type": "markdown",
   "id": "b71bc084",
   "metadata": {},
   "source": [
    "7. Array Mathematics\n"
   ]
  },
  {
   "cell_type": "code",
   "execution_count": null,
   "id": "ac041db6",
   "metadata": {},
   "outputs": [],
   "source": [
    "# Enter your code here. Read input from STDIN. Print output to STDOUT\n",
    "import numpy as np\n",
    "\n",
    "N,M = map(int,input().split())\n",
    "A_list = []\n",
    "B_list = []\n",
    "\n",
    "for i in range(N):\n",
    "    row = list(map(int,input().split()))\n",
    "    A_list.append(row)\n",
    "A = np.array(A_list)\n",
    "\n",
    "for i in range(N):\n",
    "    row = list(map(int,input().split()))\n",
    "    B_list.append(row)\n",
    "B = np.array(B_list)\n",
    "\n",
    "print(np.add(A,B))\n",
    "print(np.subtract(A,B))\n",
    "print(np.multiply(A,B))\n",
    "print(np.floor_divide(A,B))  #integer division\n",
    "print(np.mod(A,B))\n",
    "print(np.power(A,B))"
   ]
  },
  {
   "cell_type": "markdown",
   "id": "bdd99df6",
   "metadata": {},
   "source": [
    "8. Floor, Ceil and Rint"
   ]
  },
  {
   "cell_type": "code",
   "execution_count": null,
   "id": "5d2053da",
   "metadata": {},
   "outputs": [],
   "source": [
    "# Enter your code here. Read input from STDIN. Print output to STDOUT\n",
    "import numpy as np\n",
    "np.set_printoptions(legacy='1.13')\n",
    "\n",
    "my_array = np.array(list(map(float,input().split())))\n",
    "print(np.floor(my_array))\n",
    "print(np.ceil(my_array))\n",
    "print(np.rint(my_array))"
   ]
  },
  {
   "cell_type": "markdown",
   "id": "1349d55d",
   "metadata": {},
   "source": [
    "9. Sum and Prod\n"
   ]
  },
  {
   "cell_type": "code",
   "execution_count": null,
   "id": "ce54cfbd",
   "metadata": {},
   "outputs": [],
   "source": [
    "# Enter your code here. Read input from STDIN. Print output to STDOUT\n",
    "import numpy as np\n",
    "\n",
    "N,M = map(int,input().split())\n",
    "matrix_list = []\n",
    "for i in range(N):\n",
    "    row = list(map(int,input().split()))\n",
    "    matrix_list.append(row)\n",
    "my_array = np.array(matrix_list)\n",
    "sum_over_axis_0 = np.sum(my_array, axis = 0)\n",
    "print(np.prod(sum_over_axis_0))"
   ]
  },
  {
   "cell_type": "markdown",
   "id": "80afa956",
   "metadata": {},
   "source": [
    "10. Min and Max\n"
   ]
  },
  {
   "cell_type": "code",
   "execution_count": null,
   "id": "21953030",
   "metadata": {},
   "outputs": [],
   "source": [
    "# Enter your code here. Read input from STDIN. Print output to STDOUT\n",
    "import numpy as np\n",
    "\n",
    "N,M = map(int,input().split())\n",
    "matrix_list = []\n",
    "for i in range(N):\n",
    "    row = list(map(int,input().split()))\n",
    "    matrix_list.append(row)\n",
    "my_array = np.array(matrix_list)\n",
    "min_along_axis_1 = np.min(my_array, axis = 1)\n",
    "print(np.max(min_along_axis_1))"
   ]
  },
  {
   "cell_type": "markdown",
   "id": "11d4a283",
   "metadata": {},
   "source": [
    "11. Mean, Var, and Std\n"
   ]
  },
  {
   "cell_type": "code",
   "execution_count": null,
   "id": "8f350efa",
   "metadata": {},
   "outputs": [],
   "source": [
    "# Enter your code here. Read input from STDIN. Print output to STDOUT\n",
    "import numpy as np\n",
    "\n",
    "N,M = map(int,input().split())\n",
    "matrix_list = []\n",
    "for i in range(N):\n",
    "    row = list(map(int,input().split()))\n",
    "    matrix_list.append(row)\n",
    "my_array = np.array(matrix_list)\n",
    "\n",
    "print(np.mean(my_array, axis = 1))\n",
    "print(np.var(my_array, axis = 0))\n",
    "print(round(np.std(my_array, axis = None), 11))  #the submition wanted the number rounded up to the first 11 decimals"
   ]
  },
  {
   "cell_type": "markdown",
   "id": "6616c084",
   "metadata": {},
   "source": [
    "12. Dot and Cross"
   ]
  },
  {
   "cell_type": "code",
   "execution_count": null,
   "id": "58e3c3b7",
   "metadata": {},
   "outputs": [],
   "source": [
    "# Enter your code here. Read input from STDIN. Print output to STDOUT\n",
    "import numpy as np\n",
    "\n",
    "N = int(input())\n",
    "A_list = []\n",
    "B_list = []\n",
    "\n",
    "for i in range(N):\n",
    "    row = list(map(int,input().split()))\n",
    "    A_list.append(row)\n",
    "A = np.array(A_list)\n",
    "\n",
    "for i in range(N):\n",
    "    row = list(map(int,input().split()))\n",
    "    B_list.append(row)\n",
    "B = np.array(B_list)\n",
    "\n",
    "#MATRIX PRODUCT\n",
    "AB_product = np.zeros((N,N))\n",
    "\n",
    "for i in range(N):\n",
    "   for j in range(N): \n",
    "       AB_product[i, j] = np.dot(A[i,:],B[:,j])\n",
    "       \n",
    "print(AB_product.astype(int))"
   ]
  },
  {
   "cell_type": "markdown",
   "id": "140f3c22",
   "metadata": {},
   "source": [
    "13. Inner and Outer\n"
   ]
  },
  {
   "cell_type": "code",
   "execution_count": null,
   "id": "59c6658e",
   "metadata": {},
   "outputs": [],
   "source": [
    "# Enter your code here. Read input from STDIN. Print output to STDOUT\n",
    "import numpy as np\n",
    "\n",
    "A = np.array(list(map(int,input().split())))\n",
    "B = np.array(list(map(int,input().split())))\n",
    "\n",
    "print(np.inner(A,B))\n",
    "print(np.outer(A,B))"
   ]
  },
  {
   "cell_type": "markdown",
   "id": "ce00eaa5",
   "metadata": {},
   "source": [
    "14. Polynomials\n"
   ]
  },
  {
   "cell_type": "code",
   "execution_count": null,
   "id": "e597c44c",
   "metadata": {},
   "outputs": [],
   "source": [
    "# Enter your code here. Read input from STDIN. Print output to STDOUT\n",
    "import numpy as np\n",
    "\n",
    "poly_coeff = list(map(float,input().split()))\n",
    "x = float(input())\n",
    "print(np.polyval(poly_coeff,x))"
   ]
  },
  {
   "cell_type": "markdown",
   "id": "a3f9b5b3",
   "metadata": {},
   "source": [
    "15. Linear Algebra"
   ]
  },
  {
   "cell_type": "code",
   "execution_count": null,
   "id": "09f2f125",
   "metadata": {},
   "outputs": [],
   "source": [
    "# Enter your code here. Read input from STDIN. Print output to STDOUT\n",
    "import numpy as np\n",
    "\n",
    "matrix_list = []\n",
    "N = int(input())\n",
    "for i in range(N):\n",
    "    matrix_list.append(list(map(float,input().split())))\n",
    "my_array = np.array(matrix_list)\n",
    "my_array = np.reshape(my_array, (N,N))\n",
    "print(round(np.linalg.det(my_array),2))"
   ]
  }
 ],
 "metadata": {
  "kernelspec": {
   "display_name": "Python 3 (ipykernel)",
   "language": "python",
   "name": "python3"
  },
  "language_info": {
   "codemirror_mode": {
    "name": "ipython",
    "version": 3
   },
   "file_extension": ".py",
   "mimetype": "text/x-python",
   "name": "python",
   "nbconvert_exporter": "python",
   "pygments_lexer": "ipython3",
   "version": "3.11.4"
  }
 },
 "nbformat": 4,
 "nbformat_minor": 5
}
